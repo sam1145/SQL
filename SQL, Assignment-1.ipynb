{
 "cells": [
  {
   "cell_type": "code",
   "execution_count": 1,
   "id": "2952f419",
   "metadata": {},
   "outputs": [
    {
     "ename": "SyntaxError",
     "evalue": "invalid syntax (3163565821.py, line 1)",
     "output_type": "error",
     "traceback": [
      "\u001b[1;36m  Input \u001b[1;32mIn [1]\u001b[1;36m\u001b[0m\n\u001b[1;33m    CREATE DATABASE Assignment;\u001b[0m\n\u001b[1;37m           ^\u001b[0m\n\u001b[1;31mSyntaxError\u001b[0m\u001b[1;31m:\u001b[0m invalid syntax\n"
     ]
    }
   ],
   "source": [
    "CREATE DATABASE Assignment;\n",
    "USE Assignment;\n",
    "\n",
    "/*creating table SalesPeople*/\n",
    "CREATE TABLE SalesPeople (Snum INT PRIMARY KEY, Sname VARCHAR(10), City VARCHAR(15), Comm INT);\n",
    "/*creating table Customers*/\n",
    "CREATE TABLE Customers (Cnum INT PRIMARY KEY, Cname VARCHAR(15), City VARCHAR(15) NOT NULL, Snum INT, FOREIGN KEY (Snum) REFERENCES SalesPeople(Snum) ON DELETE SET NULL);\n",
    "/*creating table Orders*/\n",
    "CREATE TABLE Orders (Onum INT PRIMARY KEY, Amt DECIMAL(6,2), Odate DATE, Cnum INT, Snum INT, FOREIGN KEY(Cnum) REFERENCES Customers(Cnum) ON DELETE SET NULL, FOREIGN KEY(Snum) REFERENCES SalesPeople(Snum) ON DELETE SET NULL);\n",
    "\n",
    "/* Inserting values into SalesPeople table*/\n",
    "INSERT INTO SalesPeople VALUES (1001,'Peel','London',12),\n",
    "(1002,'Serres','Sanjose',13),\n",
    "(1004,'Motika','London',11),\n",
    "(1007,'Rifkin','Barcelona',15),\n",
    "(1003,'Axelrod','Newyork',10);\n",
    "\n",
    "/* Inserting values into customers table*/\n",
    "INSERT INTO Customers VALUES (2001,'Hoffman','London',1001),\n",
    "(2002,'Giovanni','Rome',1003),\n",
    "(2003,'Liu','Sanjose',1002),\n",
    "(2004,'Grass','Berlin',1002),\n",
    "(2006,'Clemens','London',1001),\n",
    "(2008,'Cisneros','Sanjose',1007),\n",
    "(2007,'Pereira','Rome',1004);\n",
    "\n",
    "/*Inserting values into Orders table*/\n",
    "INSERT INTO Orders VALUES (3001,18.69,'1990-10-03',2008,1007),\n",
    "(3003,767.19,'1990-10-03',2001,1001),\n",
    "(3002,1900.10,'1990-10-03',2007,1004),\n",
    "(3005,5160.45,'1990-10-03',2003,1002),\n",
    "(3006,1098.16,'1990-10-03',2008,1007),\n",
    "(3009,1713.23,'1990-10-04',2002,1003),\n",
    "(3007,75.75,'1990-10-04',2004,1002),\n",
    "(3008,4273,'1990-10-05',2006,1001),\n",
    "(3010,1309.95,'1990-10-06',2004,1002),\n",
    "(3011,9891.88,'1990-10-06',2006,1001);\n",
    "\n",
    "/* Question 1 -- Count the number of Salesperson whose name begin with ‘a’/’A’.  */\n",
    "SELECT COUNT(Sname) FROM SalesPeople WHERE Sname LIKE 'a%';\n",
    "\n",
    "\n",
    "/* Question 2 -- Display all the Salesperson whose all orders worth is more than Rs. 2000.   */\n",
    "SELECT SalesPeople.Sname, SUM(Orders.Amt) AS orders_worth FROM SalesPeople\n",
    "JOIN Orders ON Orders.Snum=SalesPeople.Snum\n",
    "GROUP BY Sname\n",
    "HAVING SUM(amt) > 2000;\n",
    "\n",
    "\n",
    "/* Queston 3 -- Count the number of Salesperson belonging to Newyork   */\n",
    "SELECT COUNT(City) FROM salespeople WHERE City='Newyork';\n",
    "\n",
    "\n",
    "/* Question 4 -- Display the number of Salespeople belonging to London and belonging to Paris.  */\n",
    "SELECT COUNT(City) FROM salespeople WHERE City='London' OR City='Paris';\n",
    "\n",
    "\n",
    "/* Question 5 -- Display the number of orders taken by each Salesperson and their date of orders.  */\n",
    "SELECT Snum, COUNT(Snum) AS 'No_of_Orders' , GROUP_CONCAT(Odate) AS 'Order_Dates' FROM Orders\n",
    "GROUP BY Snum;\n",
    "\n",
    "/* Query for above with salespeople name included  */\n",
    "SELECT Orders.Snum, SalesPeople.Sname AS 'Name' , Count(Orders.Snum) AS 'No_of_orders', GROUP_CONCAT(Orders.Odate) AS 'Order_Dates' FROM SalesPeople\n",
    "JOIN Orders ON Orders.Snum=SalesPeople.Snum\n",
    "GROUP BY Snum;"
   ]
  },
  {
   "cell_type": "code",
   "execution_count": null,
   "id": "6807fe86",
   "metadata": {},
   "outputs": [],
   "source": []
  }
 ],
 "metadata": {
  "kernelspec": {
   "display_name": "Python 3 (ipykernel)",
   "language": "python",
   "name": "python3"
  },
  "language_info": {
   "codemirror_mode": {
    "name": "ipython",
    "version": 3
   },
   "file_extension": ".py",
   "mimetype": "text/x-python",
   "name": "python",
   "nbconvert_exporter": "python",
   "pygments_lexer": "ipython3",
   "version": "3.9.12"
  }
 },
 "nbformat": 4,
 "nbformat_minor": 5
}
